{
 "cells": [
  {
   "cell_type": "markdown",
   "id": "e1f7b55c-e4f4-44df-8605-f2f499ee9ca1",
   "metadata": {
    "tags": []
   },
   "source": [
    "## Inverse Dynamics of a Planar Two-Link RP Robot Arm"
   ]
  },
  {
   "cell_type": "code",
   "execution_count": null,
   "id": "0bdcf560-0197-49f7-a2e8-dc1ec4ae43cd",
   "metadata": {
    "tags": []
   },
   "outputs": [],
   "source": [
    "from sympy import *\n",
    "from sympy.physics.mechanics import LagrangesMethod, dynamicsymbols\n",
    "import numpy as np\n",
    "from IPython.display import display, Markdown, Math\n",
    "import matplotlib.pyplot as plt\n",
    "%matplotlib inline"
   ]
  },
  {
   "cell_type": "code",
   "execution_count": null,
   "id": "09d96865-70db-4e58-a1cc-ad6934d48033",
   "metadata": {
    "tags": []
   },
   "outputs": [],
   "source": [
    "def dispmath(lhs, rhs): display(Math(f'{lhs} = {latex(rhs)}'))"
   ]
  },
  {
   "cell_type": "markdown",
   "id": "3fb66498-902c-49e6-90b4-02ea47a90086",
   "metadata": {},
   "source": [
    "![Two-Link RP Robot Arm](two-link_RP_robot_arm.png)"
   ]
  },
  {
   "cell_type": "markdown",
   "id": "1ac8ea1c-116f-4276-a780-92be9ccf077b",
   "metadata": {},
   "source": [
    "Defining the necessary symbols/functions:"
   ]
  },
  {
   "cell_type": "code",
   "execution_count": null,
   "id": "880d9a8d-d6ab-49e8-846a-a2428e399f1d",
   "metadata": {
    "tags": []
   },
   "outputs": [],
   "source": [
    "m1, m2, l1, l2, g, t = symbols('m1, m2, l1, l2, g, t')\n",
    "th, la = dynamicsymbols('theta, lambda')"
   ]
  },
  {
   "cell_type": "markdown",
   "id": "1dd40fc3-b979-42ce-91ab-819ada3ccd1c",
   "metadata": {},
   "source": [
    "Defining the positions of the centers of mass based on the angle and the extension:"
   ]
  },
  {
   "cell_type": "code",
   "execution_count": null,
   "id": "63116841-e4d3-409f-83cd-54ca52675263",
   "metadata": {
    "tags": []
   },
   "outputs": [],
   "source": [
    "x1 = l1 * cos(th); dispmath('x_1', x1)\n",
    "y1 = l1 * sin(th); dispmath('y_1', y1)\n",
    "x2 = la * cos(th); dispmath('x_2', x2)\n",
    "y2 = la * sin(th); dispmath('y_2', y2)"
   ]
  },
  {
   "cell_type": "markdown",
   "id": "1a729efc-ad18-455f-a02c-4855dc7b7911",
   "metadata": {},
   "source": [
    "Differentiating the positions with respect to time:"
   ]
  },
  {
   "cell_type": "code",
   "execution_count": null,
   "id": "f05ef7f4-65d0-4881-a7ad-3812b611dc3d",
   "metadata": {
    "tags": []
   },
   "outputs": [],
   "source": [
    "x1d = x1.diff(t); dispmath('\\\\dot{x_1}', x1d)\n",
    "y1d = y1.diff(t); dispmath('\\\\dot{y_1}', y1d)\n",
    "x2d = x2.diff(t); dispmath('\\\\dot{x_2}', x2d)\n",
    "y2d = y2.diff(t); dispmath('\\\\dot{y_2}', y2d)"
   ]
  },
  {
   "cell_type": "markdown",
   "id": "3d1c7e0b-86a7-4a2d-a2d6-0648e899cebb",
   "metadata": {},
   "source": [
    "Introducing shorthands for derivatives:"
   ]
  },
  {
   "cell_type": "code",
   "execution_count": null,
   "id": "50e98628-a01a-4d6c-9888-7357f34fac07",
   "metadata": {
    "tags": []
   },
   "outputs": [],
   "source": [
    "thd = Derivative(th, t)\n",
    "thdd = Derivative(thd, t)\n",
    "lad = Derivative(la, t)\n",
    "ladd = Derivative(lad, t)"
   ]
  },
  {
   "cell_type": "markdown",
   "id": "21c1aec1-93ee-4848-a36d-3695a4526b68",
   "metadata": {},
   "source": [
    "Computing the kinetic and potential energies:"
   ]
  },
  {
   "cell_type": "code",
   "execution_count": null,
   "id": "2b1cb831-5712-471f-b303-030ebbd01539",
   "metadata": {
    "tags": []
   },
   "outputs": [],
   "source": [
    "Ek1 = simplify(m1 * (x1d**2 + y1d**2) / 2 + m1 * l1**2 * thd**2 / 24)\n",
    "Ek2 = simplify(m2 * (x2d**2 + y2d**2) / 2 + m2 * l2**2 * thd**2 / 24)\n",
    "\n",
    "Ep1 = m1 * g * y1\n",
    "Ep2 = m2 * g * y2\n",
    "\n",
    "dispmath('E_{k1}', Ek1)\n",
    "dispmath('E_{k2}', Ek2)\n",
    "dispmath('E_{p1}', Ep1)\n",
    "dispmath('E_{p2}', Ep2)"
   ]
  },
  {
   "cell_type": "markdown",
   "id": "1f582fdb-2aa8-46ce-8194-c39fa57dc575",
   "metadata": {},
   "source": [
    "The Lagrangian function:"
   ]
  },
  {
   "cell_type": "code",
   "execution_count": null,
   "id": "23e44bc3-ba5c-4b22-83e1-ed87820b9cab",
   "metadata": {
    "tags": []
   },
   "outputs": [],
   "source": [
    "L = simplify(Ek1 + Ek2 - Ep1 - Ep2)\n",
    "dispmath('L', L)"
   ]
  },
  {
   "cell_type": "markdown",
   "id": "f2b399d1-a78f-4397-8aa4-4c3b8a8fded5",
   "metadata": {},
   "source": [
    "Forming Lagrange's equations of motion:"
   ]
  },
  {
   "cell_type": "code",
   "execution_count": null,
   "id": "fc1c09d9-88c7-4b71-9f9c-d2d2e18fed77",
   "metadata": {
    "tags": []
   },
   "outputs": [],
   "source": [
    "LM = LagrangesMethod(L, (th, la))\n",
    "eqns = LM.form_lagranges_equations()\n",
    "dispmath('\\\\begin{bmatrix} T \\\\\\\\ F \\\\end{bmatrix}', eqns)"
   ]
  },
  {
   "cell_type": "markdown",
   "id": "185af368-6e8d-424c-86ac-a7b58d9fd89d",
   "metadata": {},
   "source": [
    "Turning the equations of motion into functions that take numerical values:"
   ]
  },
  {
   "cell_type": "code",
   "execution_count": null,
   "id": "0019172b-f73f-483c-ac00-f3ee2ab5f516",
   "metadata": {
    "tags": []
   },
   "outputs": [],
   "source": [
    "params = [m1, m2, l1, l2, g, th, thd, thdd, la, lad, ladd]\n",
    "T_lambda = utilities.lambdify(params, eqns[0])\n",
    "F_lambda = utilities.lambdify(params, eqns[1])"
   ]
  },
  {
   "cell_type": "markdown",
   "id": "25ed3c30-8b6c-44f1-b31c-0e45fece2ede",
   "metadata": {},
   "source": [
    "Introducing numerical values:"
   ]
  },
  {
   "cell_type": "code",
   "execution_count": null,
   "id": "8bba7bd6-2f8b-4b8a-9040-2f6a26a7f6fa",
   "metadata": {
    "tags": []
   },
   "outputs": [],
   "source": [
    "M1 = 1.4\n",
    "M2 = 1.1\n",
    "L1 = 0.9\n",
    "L2 = 0.8\n",
    "G = 9.81"
   ]
  },
  {
   "cell_type": "markdown",
   "id": "299171a9-4009-4961-ac51-e77ef52a5b0e",
   "metadata": {},
   "source": [
    "Plotting the general shape of the trajectory:"
   ]
  },
  {
   "cell_type": "code",
   "execution_count": null,
   "id": "d1d42a5c-b282-4263-b0ea-002b4c098415",
   "metadata": {
    "tags": []
   },
   "outputs": [],
   "source": [
    "dx = 0.01\n",
    "xs = np.arange(0, 10 + dx, dx)\n",
    "ys = np.sin(3*xs) * np.cos(2*xs) * 2 * np.sin(3*xs)\n",
    "plt.plot(xs, ys)\n",
    "plt.grid()"
   ]
  },
  {
   "cell_type": "markdown",
   "id": "51ad8df6-276f-48ef-b9bb-8214049e970c",
   "metadata": {},
   "source": [
    "Fitting the assumed trajectory into a rectangle within the work area:"
   ]
  },
  {
   "cell_type": "code",
   "execution_count": null,
   "id": "76cb7463-e439-4c31-ad29-a5c52d9d33be",
   "metadata": {},
   "outputs": [],
   "source": [
    "th_n = np.pi / 6\n",
    "x_min = L1 * np.cos(th_n)\n",
    "y_min = L1 * np.sin(th_n)\n",
    "x_max = x_min + L2 * np.cos(th_n)\n",
    "y_max = y_min + L2 * np.sin(th_n)"
   ]
  },
  {
   "cell_type": "code",
   "execution_count": null,
   "id": "43e7ae10-f7a1-4fd7-bbd2-4b71416ebc85",
   "metadata": {
    "tags": []
   },
   "outputs": [],
   "source": [
    "def fit(x, x_min, x_max):\n",
    "    fitted = (x - np.min(x)) * (x_max - x_min) / (np.max(x) - np.min(x)) + x_min\n",
    "    return fitted"
   ]
  },
  {
   "cell_type": "code",
   "execution_count": null,
   "id": "b3137611-4139-4e34-904b-7108684c7b40",
   "metadata": {
    "tags": []
   },
   "outputs": [],
   "source": [
    "x_traj = fit(xs, x_min, x_max)\n",
    "y_traj = fit(ys, y_min, y_max)\n",
    "plt.plot(x_traj, y_traj)\n",
    "plt.grid()\n",
    "plt.xlim([-0.1, 2])\n",
    "plt.ylim([-0.1, 2])"
   ]
  },
  {
   "cell_type": "markdown",
   "id": "2ce95da4-0ea1-409a-98b6-72b517718c65",
   "metadata": {},
   "source": [
    "Conversion from the trajectory points to the joint variables:"
   ]
  },
  {
   "cell_type": "code",
   "execution_count": null,
   "id": "a43c0f1c-6dd9-4598-b685-dbc990e6692d",
   "metadata": {
    "tags": []
   },
   "outputs": [],
   "source": [
    "TH = np.arctan(y_traj / x_traj)\n",
    "LA = np.sqrt(x_traj**2 + y_traj**2) - L2/2"
   ]
  },
  {
   "cell_type": "code",
   "execution_count": null,
   "id": "a4cee1ff-9077-42a8-b1b5-70a84b4c4981",
   "metadata": {
    "tags": []
   },
   "outputs": [],
   "source": [
    "def interpolate(array, num_elements):\n",
    "    old_indices = np.arange(len(array))\n",
    "    new_indices = np.linspace(0, len(array) - 1, num_elements)\n",
    "    array_interpolated = np.interp(new_indices, old_indices, array)\n",
    "    return array_interpolated"
   ]
  },
  {
   "cell_type": "markdown",
   "id": "3aa5f040-fe3d-4de7-bda5-29ada60914c8",
   "metadata": {},
   "source": [
    "Numerical differentiation:"
   ]
  },
  {
   "cell_type": "code",
   "execution_count": null,
   "id": "c8ef43e1-2687-464c-bd98-8a65a7c1d2e7",
   "metadata": {
    "tags": []
   },
   "outputs": [],
   "source": [
    "ts = np.linspace(0, 10, len(TH))\n",
    "dt = ts[1] - ts[0]\n",
    "\n",
    "THd = np.diff(TH) / dt\n",
    "THd = interpolate(THd, len(TH))\n",
    "THdd = np.diff(THd) / dt\n",
    "THdd = interpolate(THdd, len(TH))\n",
    "\n",
    "LAd = np.diff(LA) / dt\n",
    "LAd = interpolate(LAd, len(LA))\n",
    "LAdd = np.diff(LAd) / dt\n",
    "LAdd = interpolate(LAdd, len(LA))"
   ]
  },
  {
   "cell_type": "markdown",
   "id": "d57c7cea-c0b6-4046-97f3-7f696ea0c767",
   "metadata": {},
   "source": [
    "Calculating the required torque and force:"
   ]
  },
  {
   "cell_type": "code",
   "execution_count": null,
   "id": "3ddbd1ac-f2f8-4621-abf4-3aa72b6328b1",
   "metadata": {
    "tags": []
   },
   "outputs": [],
   "source": [
    "T_req = T_lambda(M1, M2, L1, L2, G, TH, THd, THdd, LA, LAd, LAdd)\n",
    "F_req = F_lambda(M1, M2, L1, L2, G, TH, THd, THdd, LA, LAd, LAdd)"
   ]
  },
  {
   "cell_type": "markdown",
   "id": "ac3da2a6-6df7-4454-bfe7-35f3f546aae8",
   "metadata": {},
   "source": [
    "Plotting the torque:"
   ]
  },
  {
   "cell_type": "code",
   "execution_count": null,
   "id": "d50beb08-750d-4ed6-bddf-e5adc1e3f8e6",
   "metadata": {
    "tags": []
   },
   "outputs": [],
   "source": [
    "plt.plot(ts, T_req)\n",
    "plt.grid()\n",
    "plt.xlabel('t [$s$]')\n",
    "plt.ylabel('T [$N \\cdot m$]')"
   ]
  },
  {
   "cell_type": "markdown",
   "id": "d547e411-8561-441f-b408-cbfba9c4be73",
   "metadata": {},
   "source": [
    "Plotting the force:"
   ]
  },
  {
   "cell_type": "code",
   "execution_count": null,
   "id": "4392489a-98ff-4c55-87c9-c73ddb4c3b58",
   "metadata": {
    "tags": []
   },
   "outputs": [],
   "source": [
    "plt.plot(ts, F_req)\n",
    "plt.grid()\n",
    "plt.xlabel('t [$s$]')\n",
    "plt.ylabel('F [$N$]')"
   ]
  }
 ],
 "metadata": {
  "kernelspec": {
   "display_name": "Python 3 (ipykernel)",
   "language": "python",
   "name": "python3"
  },
  "language_info": {
   "codemirror_mode": {
    "name": "ipython",
    "version": 3
   },
   "file_extension": ".py",
   "mimetype": "text/x-python",
   "name": "python",
   "nbconvert_exporter": "python",
   "pygments_lexer": "ipython3",
   "version": "3.11.2"
  }
 },
 "nbformat": 4,
 "nbformat_minor": 5
}
