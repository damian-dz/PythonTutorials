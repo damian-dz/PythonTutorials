{
 "cells": [
  {
   "cell_type": "code",
   "execution_count": null,
   "id": "d707a7bf-b730-44cf-9a99-64ae233921c5",
   "metadata": {
    "tags": []
   },
   "outputs": [],
   "source": [
    "from sympy import *\n",
    "from sympy.physics.mechanics import LagrangesMethod, dynamicsymbols\n",
    "from IPython.display import display, Math"
   ]
  },
  {
   "cell_type": "code",
   "execution_count": null,
   "id": "1200b1b4-dbb6-4dc0-be73-16e8f0a47036",
   "metadata": {
    "tags": []
   },
   "outputs": [],
   "source": [
    "def dispmath(lhs, rhs): display(Math(f'{lhs} = {latex(rhs)}'))"
   ]
  },
  {
   "cell_type": "markdown",
   "id": "368603f1-e792-4d67-be0b-5420a04f2b3e",
   "metadata": {},
   "source": [
    "Symbols/functions:"
   ]
  },
  {
   "cell_type": "code",
   "execution_count": null,
   "id": "78547030-bf00-4658-88fe-2c5c40998498",
   "metadata": {
    "tags": []
   },
   "outputs": [],
   "source": [
    "m, l, r, g, t = symbols('m, l, r, g, t')\n",
    "th_y, th_z = dynamicsymbols('theta_y, theta_z')"
   ]
  },
  {
   "cell_type": "markdown",
   "id": "29ccf792-7412-44b8-ada0-c50e210402f2",
   "metadata": {
    "tags": []
   },
   "source": [
    "Position of the center of mass based on the angles:"
   ]
  },
  {
   "cell_type": "code",
   "execution_count": null,
   "id": "e5d1251a-a58b-43a1-928e-ea7d93941653",
   "metadata": {
    "tags": []
   },
   "outputs": [],
   "source": [
    "x = l * cos(th_y) * cos(th_z) / 2; dispmath('x', x)\n",
    "y = l * cos(th_y) * sin(th_z) / 2; dispmath('y', y)\n",
    "z = l * sin(th_y) / 2; dispmath('z', z)"
   ]
  },
  {
   "cell_type": "markdown",
   "id": "582909e6-48fe-47a2-83db-51d2b068bef4",
   "metadata": {
    "tags": []
   },
   "source": [
    "Time derivatives:"
   ]
  },
  {
   "cell_type": "code",
   "execution_count": null,
   "id": "ae7f5cda-6820-40a8-86ef-448791db9e7e",
   "metadata": {
    "tags": []
   },
   "outputs": [],
   "source": [
    "xd = simplify(x.diff(t)); dispmath('\\dot{{x}}', xd)\n",
    "yd = simplify(y.diff(t)); dispmath('\\dot{{y}}', yd)\n",
    "zd = z.diff(t); dispmath('\\dot{{z}}', zd)"
   ]
  },
  {
   "cell_type": "markdown",
   "id": "320d1566-3b1d-480d-9d2b-35c6f124b582",
   "metadata": {},
   "source": [
    "Kinetic energy component related to linear motion (translation):"
   ]
  },
  {
   "cell_type": "code",
   "execution_count": null,
   "id": "66cd5dbe-abc9-4bb1-9f81-d7572608568e",
   "metadata": {
    "tags": []
   },
   "outputs": [],
   "source": [
    "KE_lin = simplify(m * (xd**2 + yd**2 + zd**2) / 2)\n",
    "dispmath('KE_{lin}', KE_lin)"
   ]
  },
  {
   "cell_type": "markdown",
   "id": "72cfa30f-a780-4177-b8fc-055db4407885",
   "metadata": {},
   "source": [
    "Angular velocities in matrix form:"
   ]
  },
  {
   "cell_type": "code",
   "execution_count": null,
   "id": "e6325a60-d211-49ee-854f-2c93c4a8f976",
   "metadata": {
    "tags": []
   },
   "outputs": [],
   "source": [
    "omega = Matrix([[0], [Derivative(th_y, t)], [Derivative(th_z, t)]])\n",
    "dispmath('\\omega', omega)"
   ]
  },
  {
   "cell_type": "markdown",
   "id": "88c6566d-4afd-4f72-956e-20fe26222828",
   "metadata": {},
   "source": [
    "Moment of inertia matrix for a uniform cylinder:"
   ]
  },
  {
   "cell_type": "code",
   "execution_count": null,
   "id": "7ebd77c2-2a19-4b23-ac65-c570b23bef06",
   "metadata": {
    "tags": []
   },
   "outputs": [],
   "source": [
    "I = Matrix([[m*l**2/12 + m*r**2/4, 0, 0], [0, m*l**2/12 + m*r**2/4, 0], [0, 0, m*r**2/2]])\n",
    "dispmath('I', I)"
   ]
  },
  {
   "cell_type": "markdown",
   "id": "7c987d60-459b-42c4-b269-69870be895ad",
   "metadata": {},
   "source": [
    "Kinetic energy component related to rotational motion (rotation):"
   ]
  },
  {
   "cell_type": "code",
   "execution_count": null,
   "id": "2059c912-7784-4b9e-b732-4b624ebf627d",
   "metadata": {
    "tags": []
   },
   "outputs": [],
   "source": [
    "KE_rot = simplify(omega.T * I * omega)[0]\n",
    "dispmath('KE_{rot}', KE_rot)"
   ]
  },
  {
   "cell_type": "markdown",
   "id": "8bf47593-bfee-41f5-8415-3b9d25ac49c5",
   "metadata": {},
   "source": [
    "Total kinetic energy and potential energy:"
   ]
  },
  {
   "cell_type": "code",
   "execution_count": null,
   "id": "f23b3600-2f46-47f3-a9d9-30a31685d037",
   "metadata": {
    "tags": []
   },
   "outputs": [],
   "source": [
    "KE = simplify(KE_lin + KE_rot); dispmath('KE', KE)\n",
    "PE = m * g * z; dispmath('PE', PE)"
   ]
  },
  {
   "cell_type": "markdown",
   "id": "520fd561-6efe-4810-8506-05887369e5ca",
   "metadata": {},
   "source": [
    "Lagrangian function:"
   ]
  },
  {
   "cell_type": "code",
   "execution_count": null,
   "id": "4e1158dc-8f48-4bf4-891c-c7990341b33d",
   "metadata": {
    "tags": []
   },
   "outputs": [],
   "source": [
    "L = simplify(KE - PE); dispmath('L', L)"
   ]
  },
  {
   "cell_type": "markdown",
   "id": "bfbe1f1d-0c09-48f5-a123-699243bd62f8",
   "metadata": {
    "tags": []
   },
   "source": [
    "Equations of motion:"
   ]
  },
  {
   "cell_type": "code",
   "execution_count": null,
   "id": "c087bddf-8507-4a42-9903-67239b61b124",
   "metadata": {
    "tags": []
   },
   "outputs": [],
   "source": [
    "LM = LagrangesMethod(L, (th_y, th_z))\n",
    "eqns = LM.form_lagranges_equations()\n",
    "dispmath('\\\\begin{bmatrix} T_y \\\\\\\\ T_z \\\\end{bmatrix}', simplify(eqns))"
   ]
  }
 ],
 "metadata": {
  "kernelspec": {
   "display_name": "Python 3 (ipykernel)",
   "language": "python",
   "name": "python3"
  },
  "language_info": {
   "codemirror_mode": {
    "name": "ipython",
    "version": 3
   },
   "file_extension": ".py",
   "mimetype": "text/x-python",
   "name": "python",
   "nbconvert_exporter": "python",
   "pygments_lexer": "ipython3",
   "version": "3.11.2"
  }
 },
 "nbformat": 4,
 "nbformat_minor": 5
}
