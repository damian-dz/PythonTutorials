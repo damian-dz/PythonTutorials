{
 "cells": [
  {
   "cell_type": "markdown",
   "id": "6cd2d483-4c6f-447c-9827-62be37177174",
   "metadata": {
    "tags": []
   },
   "source": [
    "## Inverse Dynamics of a 3-Link RRR Articulated Robot Arm"
   ]
  },
  {
   "cell_type": "code",
   "execution_count": null,
   "id": "3863c556-54f5-4497-b437-d9cb2f9f2436",
   "metadata": {
    "tags": []
   },
   "outputs": [],
   "source": [
    "from sympy import *\n",
    "from sympy.physics.mechanics import LagrangesMethod, dynamicsymbols\n",
    "import numpy as np\n",
    "import matplotlib.pyplot as plt\n",
    "from mpl_toolkits import mplot3d\n",
    "from IPython.display import display, Markdown, Math"
   ]
  },
  {
   "cell_type": "code",
   "execution_count": null,
   "id": "70fc9524-9dd4-4e77-a6f0-b7f70b9d0fdd",
   "metadata": {
    "tags": []
   },
   "outputs": [],
   "source": [
    "def dispmath(lhs, ltx): display(Math(f'{lhs} = {latex(ltx)}'))"
   ]
  },
  {
   "cell_type": "markdown",
   "id": "5b22dd91-1a1d-4591-9144-1c8d957757af",
   "metadata": {},
   "source": [
    "Defining the necessary symbols/functions:"
   ]
  },
  {
   "cell_type": "code",
   "execution_count": null,
   "id": "0bf82785-3092-4ae5-a9ec-5c0095f65124",
   "metadata": {
    "tags": []
   },
   "outputs": [],
   "source": [
    "m1, m2, m3, l1, l2, l3, r, g, t = symbols('m1, m2, m3, l1, l2, l3, r, g, t')\n",
    "th1, th2, th3 = dynamicsymbols('theta1, theta2, theta3')"
   ]
  },
  {
   "cell_type": "markdown",
   "id": "e2bf7c5c-d6b2-44b7-bdea-aac633bc82f2",
   "metadata": {},
   "source": [
    "Defining the positions of the centers of mass for the 2nd and 3rd links:"
   ]
  },
  {
   "cell_type": "code",
   "execution_count": null,
   "id": "43b77a8d-5ea8-401a-8b01-0a48ae4247f8",
   "metadata": {
    "tags": []
   },
   "outputs": [],
   "source": [
    "x2 = l2 * cos(th2) * cos(th1) / 2\n",
    "y2 = l2 * cos(th2) * sin(th1) / 2\n",
    "z2 = l1 + l2 * sin(th2) / 2"
   ]
  },
  {
   "cell_type": "code",
   "execution_count": null,
   "id": "a8927b85-962b-4001-9281-b3a06ba3cbdc",
   "metadata": {
    "tags": []
   },
   "outputs": [],
   "source": [
    "x3 = l2 * cos(th2) * cos(th1) + l3 * cos(th3) * cos(th1) / 2\n",
    "y3 = l2 * cos(th2) * sin(th1) + l3 * cos(th3) * sin(th1) / 2\n",
    "z3 = l1 + l2 * sin(th2) + l3 * sin(th3) / 2"
   ]
  },
  {
   "cell_type": "code",
   "execution_count": null,
   "id": "32edd09d-dab0-4df8-a18a-3091575ea7e1",
   "metadata": {
    "tags": []
   },
   "outputs": [],
   "source": [
    "x2d = x2.diff(t); dispmath('\\dot{x_2}', x2d)\n",
    "y2d = y2.diff(t); dispmath('\\dot{y_2}', y2d)\n",
    "z2d = z2.diff(t); dispmath('\\dot{z_2}', z2d)"
   ]
  },
  {
   "cell_type": "code",
   "execution_count": null,
   "id": "30cda9b5-7535-47e8-be58-94408490ba1c",
   "metadata": {
    "tags": []
   },
   "outputs": [],
   "source": [
    "x3d = x3.diff(t); dispmath('\\dot{x_3}', x3d)\n",
    "y3d = y3.diff(t); dispmath('\\dot{y_3}', y3d)\n",
    "z3d = z3.diff(t); dispmath('\\dot{z_3}', z3d)"
   ]
  },
  {
   "cell_type": "markdown",
   "id": "19e7ec64-54c4-4c15-a93f-815f42fee668",
   "metadata": {},
   "source": [
    "Inertia matrices for the 2nd an 3rd links:"
   ]
  },
  {
   "cell_type": "code",
   "execution_count": null,
   "id": "97e06064-08c5-4b7e-896b-cf07764dd5f4",
   "metadata": {
    "tags": []
   },
   "outputs": [],
   "source": [
    "I2 = Matrix([[m2*l2**2/12 + m2*r**2/4, 0, 0], [0, m2*l2**2/12 + m2*r**2/4, 0], [0, 0, m2*r**2/2]])\n",
    "dispmath('I_2', I2)\n",
    "I3 = Matrix([[m3*l3**2/12 + m3*r**2/4, 0, 0], [0, m3*l2**2/12 + m3*r**2/4, 0], [0, 0, m3*r**2/2]])\n",
    "dispmath('I_3', I3)"
   ]
  },
  {
   "cell_type": "markdown",
   "id": "e74bc24f-7fa5-4c7f-9b6b-4026c8be4ed4",
   "metadata": {},
   "source": [
    "Shorthands for the derivatives:"
   ]
  },
  {
   "cell_type": "code",
   "execution_count": null,
   "id": "bffaec99-282b-440f-8518-b5a07df2a6f8",
   "metadata": {},
   "outputs": [],
   "source": [
    "th1d = Derivative(th1, t)\n",
    "th1dd = Derivative(th1d, t)\n",
    "th2d = Derivative(th2, t)\n",
    "th2dd = Derivative(th2d, t)\n",
    "th3d = Derivative(th3, t)\n",
    "th3dd = Derivative(th3d, t)"
   ]
  },
  {
   "cell_type": "markdown",
   "id": "fb0c743b-da5d-4dc7-afe8-3dbed186539b",
   "metadata": {},
   "source": [
    "Angular velocity column matrices:"
   ]
  },
  {
   "cell_type": "code",
   "execution_count": null,
   "id": "dd35a4d4-9922-48db-9afa-5511e0659709",
   "metadata": {
    "tags": []
   },
   "outputs": [],
   "source": [
    "omega2 = Matrix([[0], [th2d], [th1d]])\n",
    "dispmath('\\omega_2', omega2)\n",
    "omega3 = Matrix([[0], [th3d], [th1d]])\n",
    "dispmath('\\omega_3', omega3)"
   ]
  },
  {
   "cell_type": "markdown",
   "id": "fa17710d-c707-4d68-84db-b1bab3ce4638",
   "metadata": {},
   "source": [
    "Computing the kinetic energies:"
   ]
  },
  {
   "cell_type": "code",
   "execution_count": null,
   "id": "fb93880d-98b3-4af3-81c3-efb90d51216a",
   "metadata": {
    "tags": []
   },
   "outputs": [],
   "source": [
    "Ek1 = m1 * r**2 * th1d**2 / 2\n",
    "Ek2 = simplify(m2 * (x2d**2 + y2d**2 + z2d**2) / 2 + (omega2.T * I2 * omega2 / 2)[0])\n",
    "Ek3 = simplify(m3 * (x3d**2 + y3d**2 + z3d**2) / 2 + (omega3.T * I3 * omega3 / 2)[0])\n",
    "dispmath('E_{k1}', Ek1)\n",
    "dispmath('E_{k2}', Ek2)\n",
    "dispmath('E_{k3}', Ek3)"
   ]
  },
  {
   "cell_type": "markdown",
   "id": "67f0c4fc-be7f-4524-bc0f-37e1c2f10cc1",
   "metadata": {},
   "source": [
    "Computing the potential energies:"
   ]
  },
  {
   "cell_type": "code",
   "execution_count": null,
   "id": "c01287c2-e31d-4b0a-9e44-53c8fa8f110c",
   "metadata": {
    "tags": []
   },
   "outputs": [],
   "source": [
    "Ep1 = m1 * g * l1 / 2\n",
    "Ep2 = m2 * g * z2\n",
    "Ep3 = m3 * g * z3\n",
    "dispmath('E_{p1}', Ep1)\n",
    "dispmath('E_{p2}', Ep2)\n",
    "dispmath('E_{p3}', Ep3)"
   ]
  },
  {
   "cell_type": "markdown",
   "id": "1f6f62c2-ebfd-4fbc-8efc-e680de5f8ecf",
   "metadata": {},
   "source": [
    "The Lagrangian function:"
   ]
  },
  {
   "cell_type": "code",
   "execution_count": null,
   "id": "3674e856-c72b-441c-8e07-df47daeb560e",
   "metadata": {
    "tags": []
   },
   "outputs": [],
   "source": [
    "L = Ek1 + Ek2 + Ek3 - Ep1 - Ep2 - Ep3\n",
    "dispmath('L', L)"
   ]
  },
  {
   "cell_type": "markdown",
   "id": "c1eb934e-28bf-454d-a85c-9a1cb6b8595d",
   "metadata": {},
   "source": [
    "Deriving the equations of motion:"
   ]
  },
  {
   "cell_type": "code",
   "execution_count": null,
   "id": "9e0e9513-d9f0-4d91-9578-0d53d3ee743a",
   "metadata": {
    "tags": []
   },
   "outputs": [],
   "source": [
    "LM = LagrangesMethod(L, (th1, th2, th3))\n",
    "eqns = LM.form_lagranges_equations()\n",
    "dispmath('\\\\begin{bmatrix} T_1 \\\\\\\\ T_2 \\\\\\\\ T_3 \\\\end{bmatrix}', simplify(eqns))"
   ]
  },
  {
   "cell_type": "markdown",
   "id": "d82f6bae-e2a5-471c-b11e-cbe6f1c96489",
   "metadata": {},
   "source": [
    "Turning the equations of motion into functions that take numerical values:"
   ]
  },
  {
   "cell_type": "code",
   "execution_count": null,
   "id": "2c6826af-993e-460e-80ee-957dd7c04b56",
   "metadata": {
    "tags": []
   },
   "outputs": [],
   "source": [
    "params = [m1, m2, m3, l1, l2, l3, r, g, th1, th1d, th1dd, th2, th2d, th2dd, th3, th3d, th3dd]\n",
    "T1_lambda = utilities.lambdify(params, eqns[0])\n",
    "T2_lambda = utilities.lambdify(params, eqns[1])\n",
    "T3_lambda = utilities.lambdify(params, eqns[2])"
   ]
  },
  {
   "cell_type": "markdown",
   "id": "e0416898-e0c5-4118-a35c-df8690f85328",
   "metadata": {},
   "source": [
    "Introducing numerical values:"
   ]
  },
  {
   "cell_type": "code",
   "execution_count": null,
   "id": "2895b48a-487e-4052-87ca-7f7eeb4f47cd",
   "metadata": {
    "tags": []
   },
   "outputs": [],
   "source": [
    "L1 = 0.5\n",
    "L2 = 0.7\n",
    "L3 = 0.6\n",
    "R = 0.05\n",
    "M1 = 1\n",
    "M2 = 1.4\n",
    "M3 = 1.2\n",
    "G = 9.81"
   ]
  },
  {
   "cell_type": "markdown",
   "id": "ae71c975-37c3-49e3-b282-71645829512d",
   "metadata": {},
   "source": [
    "The general shape of the assumed trajectory:"
   ]
  },
  {
   "cell_type": "code",
   "execution_count": null,
   "id": "7ff6855d-430e-4943-9d63-2859095f2e18",
   "metadata": {
    "tags": []
   },
   "outputs": [],
   "source": [
    "alpha = np.linspace(0, np.pi, 1000);\n",
    "x = np.linspace(0, 1, len(alpha))\n",
    "r = x**2 + 1\n",
    "y = r * np.cos(alpha)\n",
    "z = r * np.sin(alpha)\n",
    "\n",
    "fig = plt.figure()\n",
    "ax = plt.axes(projection='3d')\n",
    "ax.view_init(elev=30, azim=35)\n",
    "ax.plot3D(x, y, z, 'b')\n",
    "plt.show()"
   ]
  },
  {
   "cell_type": "markdown",
   "id": "f677b502-232c-4037-bea9-544130cf95cb",
   "metadata": {},
   "source": [
    "Fitting the trajectory into a \"box\" within the workspace:"
   ]
  },
  {
   "cell_type": "code",
   "execution_count": null,
   "id": "31a6845a-86fb-4260-a708-3a0da2ba3075",
   "metadata": {
    "tags": []
   },
   "outputs": [],
   "source": [
    "def fit(x, x_min, x_max):\n",
    "    fitted = (x - np.min(x)) * (x_max - x_min) / (np.max(x) - np.min(x)) + x_min\n",
    "    return fitted"
   ]
  },
  {
   "cell_type": "code",
   "execution_count": null,
   "id": "a27723c8-f944-453b-8741-ad3bc909a113",
   "metadata": {
    "tags": []
   },
   "outputs": [],
   "source": [
    "x_fit = fit(x, 0.4, 0.8)\n",
    "y_fit = fit(y, 0.4, 0.8)\n",
    "z_fit = fit(z, 0, 0.3)\n",
    "\n",
    "fig = plt.figure()\n",
    "ax = plt.axes(projection='3d')\n",
    "ax.view_init(elev=30, azim=35)\n",
    "ax.plot3D(x_fit, y_fit, z_fit, 'g')\n",
    "ax.set_xlabel('X')\n",
    "ax.set_ylabel('Y')\n",
    "ax.set_zlabel('Z')\n",
    "ax.set_xlim3d(-0.1, 1)\n",
    "ax.set_ylim3d(-0.1, 1)\n",
    "ax.set_zlim3d(-0.1, 1)\n",
    "\n",
    "plt.show()"
   ]
  },
  {
   "cell_type": "markdown",
   "id": "42384641-8784-4526-8b8a-6f2153ae141b",
   "metadata": {
    "tags": []
   },
   "source": [
    "Converting the trajectory to the joint variables:"
   ]
  },
  {
   "cell_type": "markdown",
   "id": "e338b7af-859e-421d-8394-420b25db46ca",
   "metadata": {},
   "source": [
    "![Two Circles](two_circles.png)"
   ]
  },
  {
   "cell_type": "code",
   "execution_count": null,
   "id": "d90fcc7c-7d8f-47a9-b7c0-225ddc858f9c",
   "metadata": {
    "tags": []
   },
   "outputs": [],
   "source": [
    "s = np.sqrt(x_fit**2 + y_fit**2)\n",
    "A = (L2**2 - L3**2 + s**2 + z_fit**2) / (2 * s)\n",
    "B = z_fit / s\n",
    "\n",
    "zA = L1\n",
    "a = B**2 + 1\n",
    "b = -2 * (A * B + zA)\n",
    "c = A**2 + zA**2 - L2**2\n",
    "delta = b**2 - 4 * a * c\n",
    "zB = (-b + np.sqrt(delta)) / (2 * a)\n",
    "sB = A - B * zB\n",
    "\n",
    "TH1 = np.arctan2(y_fit, x_fit)\n",
    "TH2 = np.arctan2(zB - zA, sB)\n",
    "TH3 = -np.arctan2(zB - z_fit, s - sB)"
   ]
  },
  {
   "cell_type": "markdown",
   "id": "a0fa4149-8c55-4700-80e9-929d811f6e27",
   "metadata": {},
   "source": [
    "Simulation time and time step:"
   ]
  },
  {
   "cell_type": "code",
   "execution_count": null,
   "id": "8798f84d-f822-458c-b826-35e743dc8863",
   "metadata": {
    "tags": []
   },
   "outputs": [],
   "source": [
    "ts = np.linspace(0, 10, len(x))\n",
    "dt = ts[1] - ts[0]"
   ]
  },
  {
   "cell_type": "code",
   "execution_count": null,
   "id": "7b5f9ed3-57d9-4028-8e19-a24fe99b05f2",
   "metadata": {
    "tags": []
   },
   "outputs": [],
   "source": [
    "def interpolate(x, num_elements):\n",
    "    old_indices = np.arange(len(x))\n",
    "    new_indices = np.linspace(0, len(x) - 1, num_elements)\n",
    "    interpolated = np.interp(new_indices, old_indices, x)\n",
    "    return interpolated"
   ]
  },
  {
   "cell_type": "markdown",
   "id": "91a56cba-2270-4e7b-a893-d298294c4645",
   "metadata": {},
   "source": [
    "Numerical differentiantion:"
   ]
  },
  {
   "cell_type": "code",
   "execution_count": null,
   "id": "dd792e36-7c4c-402d-b6fe-697fc160595b",
   "metadata": {
    "tags": []
   },
   "outputs": [],
   "source": [
    "TH1d = np.diff(TH1) / dt\n",
    "TH1dd = np.diff(TH1d) / dt\n",
    "TH2d = np.diff(TH2) / dt\n",
    "TH2dd = np.diff(TH2d) / dt\n",
    "TH3d = np.diff(TH3) / dt\n",
    "TH3dd = np.diff(TH3d) / dt\n",
    "\n",
    "TH1d_interp = interpolate(TH1d, len(TH1))\n",
    "TH1dd_interp = interpolate(TH1dd, len(TH1))\n",
    "TH2d_interp = interpolate(TH2d, len(TH2))\n",
    "TH2dd_interp = interpolate(TH2dd, len(TH2))\n",
    "TH3d_interp = interpolate(TH3d, len(TH3))\n",
    "TH3dd_interp = interpolate(TH3dd, len(TH3))"
   ]
  },
  {
   "cell_type": "markdown",
   "id": "260c83f8-d834-4ca2-b64f-2dd8877a9e2b",
   "metadata": {},
   "source": [
    "Inputting numerical values into the previously genenerated functions:"
   ]
  },
  {
   "cell_type": "code",
   "execution_count": null,
   "id": "e5115385-bada-4ddc-81e6-e687b61d3f28",
   "metadata": {
    "tags": []
   },
   "outputs": [],
   "source": [
    "num_vals = (M1, M2, M3, L1, L2, L3, R, G, TH1, TH1d_interp, TH1dd_interp, TH2, TH2d_interp, TH2dd_interp, TH3, TH3d_interp, TH3dd_interp)\n",
    "T1_n = T1_lambda(*num_vals)\n",
    "T2_n = T2_lambda(*num_vals)\n",
    "T3_n = T3_lambda(*num_vals)"
   ]
  },
  {
   "cell_type": "code",
   "execution_count": null,
   "id": "ac4b747d-2bd6-4691-b41c-fec4a91ca735",
   "metadata": {},
   "outputs": [],
   "source": [
    "plt.plot(ts, T1_n)\n",
    "plt.xlabel('t [$s$]')\n",
    "plt.ylabel('$T_1$ [$N \\cdot m$]')\n",
    "plt.grid()"
   ]
  },
  {
   "cell_type": "code",
   "execution_count": null,
   "id": "48b7e7a5-b5d9-477d-aaad-390a582cd136",
   "metadata": {},
   "outputs": [],
   "source": [
    "plt.plot(ts, T2_n)\n",
    "plt.xlabel('t [$s$]')\n",
    "plt.ylabel('$T_2$ [$N \\cdot m$]')\n",
    "plt.grid()"
   ]
  },
  {
   "cell_type": "code",
   "execution_count": null,
   "id": "3e22cee1-864a-4722-b5ce-3c7dca6ec235",
   "metadata": {},
   "outputs": [],
   "source": [
    "plt.plot(ts, T3_n)\n",
    "plt.xlabel('t [$s$]')\n",
    "plt.ylabel('$T_3$ [$N \\cdot m$]')\n",
    "plt.grid()"
   ]
  }
 ],
 "metadata": {
  "kernelspec": {
   "display_name": "Python 3 (ipykernel)",
   "language": "python",
   "name": "python3"
  },
  "language_info": {
   "codemirror_mode": {
    "name": "ipython",
    "version": 3
   },
   "file_extension": ".py",
   "mimetype": "text/x-python",
   "name": "python",
   "nbconvert_exporter": "python",
   "pygments_lexer": "ipython3",
   "version": "3.11.2"
  }
 },
 "nbformat": 4,
 "nbformat_minor": 5
}
