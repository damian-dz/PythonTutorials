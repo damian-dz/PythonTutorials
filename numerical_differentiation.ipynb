{
 "cells": [
  {
   "cell_type": "code",
   "execution_count": null,
   "id": "6eff6865-9880-47ee-8439-1188e1464bca",
   "metadata": {
    "tags": []
   },
   "outputs": [],
   "source": [
    "import numpy as np\n",
    "import matplotlib.pyplot as plt\n",
    "%matplotlib inline"
   ]
  },
  {
   "cell_type": "code",
   "execution_count": null,
   "id": "7c2d0465-ac51-4a7f-aee4-aa3013c1b2bb",
   "metadata": {
    "tags": []
   },
   "outputs": [],
   "source": [
    "dx = 0.01\n",
    "x = np.arange(0, 10 + dx, dx)\n",
    "y = np.sin(x)\n",
    "plt.plot(x, y)\n",
    "plt.grid()"
   ]
  },
  {
   "cell_type": "code",
   "execution_count": null,
   "id": "678a6a9c-891e-49fd-a630-889058ef5d59",
   "metadata": {
    "tags": []
   },
   "outputs": [],
   "source": [
    "yd = np.diff(y) / dx\n",
    "# y[1] - y[0], y[2] - y[1], y[3] - y[2]"
   ]
  },
  {
   "cell_type": "code",
   "execution_count": null,
   "id": "6f6c98fe-18ac-4d7a-afe8-d11a27447668",
   "metadata": {
    "tags": []
   },
   "outputs": [],
   "source": [
    "def interpolate(array, num_elements):\n",
    "    old_indices = np.arange(len(array))\n",
    "    new_indices = np.linspace(0, len(array) - 1, num_elements)\n",
    "    array_interpolated = np.interp(new_indices, old_indices, array)\n",
    "    return array_interpolated"
   ]
  },
  {
   "cell_type": "code",
   "execution_count": null,
   "id": "495ef7e4-7cd5-400d-911b-41698556eb34",
   "metadata": {
    "tags": []
   },
   "outputs": [],
   "source": [
    "yd = interpolate(yd, len(x))"
   ]
  },
  {
   "cell_type": "code",
   "execution_count": null,
   "id": "8223096b-e895-4f66-833a-cf4c6a0c2bdc",
   "metadata": {
    "tags": []
   },
   "outputs": [],
   "source": [
    "plt.plot(x, yd)\n",
    "plt.grid()"
   ]
  },
  {
   "cell_type": "code",
   "execution_count": null,
   "id": "415e9964-6b85-4fd3-80c9-c6f3298e6c50",
   "metadata": {
    "tags": []
   },
   "outputs": [],
   "source": [
    "ydd = np.diff(yd) / dx\n",
    "ydd = interpolate(ydd, len(x))"
   ]
  },
  {
   "cell_type": "code",
   "execution_count": null,
   "id": "24c9a76d-1b92-49ea-80ec-6520bebf4844",
   "metadata": {
    "tags": []
   },
   "outputs": [],
   "source": [
    "plt.plot(x, ydd)\n",
    "plt.grid()"
   ]
  }
 ],
 "metadata": {
  "kernelspec": {
   "display_name": "Python 3 (ipykernel)",
   "language": "python",
   "name": "python3"
  },
  "language_info": {
   "codemirror_mode": {
    "name": "ipython",
    "version": 3
   },
   "file_extension": ".py",
   "mimetype": "text/x-python",
   "name": "python",
   "nbconvert_exporter": "python",
   "pygments_lexer": "ipython3",
   "version": "3.11.2"
  }
 },
 "nbformat": 4,
 "nbformat_minor": 5
}
