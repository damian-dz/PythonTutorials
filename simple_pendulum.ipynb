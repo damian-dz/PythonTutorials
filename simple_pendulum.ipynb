{
 "cells": [
  {
   "cell_type": "code",
   "execution_count": null,
   "id": "660d7bcf-a516-4116-8ebf-af833cb87d99",
   "metadata": {
    "tags": []
   },
   "outputs": [],
   "source": [
    "from sympy import *\n",
    "from sympy.physics.mechanics import LagrangesMethod, dynamicsymbols\n",
    "from IPython.display import display, Math"
   ]
  },
  {
   "cell_type": "markdown",
   "id": "f0baa090-7cd1-4e7d-a4dc-52dc5bfe88f2",
   "metadata": {},
   "source": [
    "Define the necessary symbols and functions:"
   ]
  },
  {
   "cell_type": "code",
   "execution_count": null,
   "id": "4aa2112c-0559-46e9-95b6-f303105e63d3",
   "metadata": {
    "tags": []
   },
   "outputs": [],
   "source": [
    "t, g, m, l = symbols('t, g, m, l')\n",
    "th = dynamicsymbols('theta')"
   ]
  },
  {
   "cell_type": "code",
   "execution_count": null,
   "id": "f53f95e6-4ac5-4724-b24b-81e87848e3fa",
   "metadata": {
    "tags": []
   },
   "outputs": [],
   "source": [
    "def dispmath(lhs, rhs): display(Math(f'{lhs} = {latex(rhs)}'))"
   ]
  },
  {
   "cell_type": "markdown",
   "id": "713a56ac-eb54-4174-a725-478cb620da3b",
   "metadata": {},
   "source": [
    "Define the position of the mass point based on the angle:"
   ]
  },
  {
   "cell_type": "code",
   "execution_count": null,
   "id": "3a627629-bac6-4408-a58f-3b7ef1953622",
   "metadata": {
    "tags": []
   },
   "outputs": [],
   "source": [
    "x = l * sin(th); dispmath('x', x)\n",
    "y = -l * cos(th); dispmath('y', y)"
   ]
  },
  {
   "cell_type": "markdown",
   "id": "6b3010f9-a2e4-4a60-a121-2a024f423b03",
   "metadata": {
    "tags": []
   },
   "source": [
    "Compute the time derivatives:"
   ]
  },
  {
   "cell_type": "code",
   "execution_count": null,
   "id": "79276b4a-87be-4523-8d8b-0fe35e74cbe7",
   "metadata": {
    "tags": []
   },
   "outputs": [],
   "source": [
    "xd = x.diff(t); dispmath('\\dot{{x}}', xd)\n",
    "yd = y.diff(t); dispmath('\\dot{{y}}', yd)"
   ]
  },
  {
   "cell_type": "markdown",
   "id": "a7a850bc-9179-4832-8421-51276a6e49c7",
   "metadata": {},
   "source": [
    "Calculate the kinetic energy and the potential energy:"
   ]
  },
  {
   "cell_type": "code",
   "execution_count": null,
   "id": "3c3834ff-26de-4b16-b63e-a058bce77698",
   "metadata": {
    "tags": []
   },
   "outputs": [],
   "source": [
    "KE = simplify(m * (xd ** 2 + yd ** 2) / 2); dispmath('KE', KE)\n",
    "PE = m * g * y; dispmath('PE', PE)"
   ]
  },
  {
   "cell_type": "markdown",
   "id": "40fd2ede-0dc9-427c-8131-d44ccdf0d69f",
   "metadata": {},
   "source": [
    "Find the Lagrangian function and its derivatives:"
   ]
  },
  {
   "cell_type": "code",
   "execution_count": null,
   "id": "b50888a2-706b-4860-9b4f-9cd70de419e7",
   "metadata": {
    "tags": []
   },
   "outputs": [],
   "source": [
    "L = simplify(KE - PE); dispmath('L', L)"
   ]
  },
  {
   "cell_type": "code",
   "execution_count": null,
   "id": "c9fa8be2-a500-4898-8623-2f5b71130b91",
   "metadata": {
    "tags": []
   },
   "outputs": [],
   "source": [
    "LM = LagrangesMethod(L, [th])\n",
    "eqns = LM.form_lagranges_equations()\n",
    "T = simplify(eqns[0])\n",
    "dispmath('T', T)"
   ]
  },
  {
   "cell_type": "markdown",
   "id": "263be3c9-ede9-4f33-80bf-772ea950c114",
   "metadata": {},
   "source": [
    "Solve for $\\ddot{\\theta}$ (for $T = 0$) and display it the form of a second-order differential equation:"
   ]
  },
  {
   "cell_type": "code",
   "execution_count": null,
   "id": "0778e91f-0711-4c7d-8bbc-0b8483c8bd00",
   "metadata": {
    "tags": []
   },
   "outputs": [],
   "source": [
    "THdd = solve(T, Derivative(th, (t, 2)))[0]\n",
    "dispmath('\\ddot{{\\\\theta}}(t)', THdd)"
   ]
  }
 ],
 "metadata": {
  "kernelspec": {
   "display_name": "Python 3 (ipykernel)",
   "language": "python",
   "name": "python3"
  },
  "language_info": {
   "codemirror_mode": {
    "name": "ipython",
    "version": 3
   },
   "file_extension": ".py",
   "mimetype": "text/x-python",
   "name": "python",
   "nbconvert_exporter": "python",
   "pygments_lexer": "ipython3",
   "version": "3.11.2"
  }
 },
 "nbformat": 4,
 "nbformat_minor": 5
}
